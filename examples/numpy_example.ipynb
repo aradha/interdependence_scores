{
 "cells": [
  {
   "cell_type": "markdown",
   "metadata": {},
   "source": [
    "### Overview of InterDependence Score (IDS) computation \n",
    "\n",
    "This notebook provides code for computing IDS between variables using our library.  Here, we assume that the user only has numpy installed (rather than PyTorch).    "
   ]
  },
  {
   "cell_type": "code",
   "execution_count": 1,
   "metadata": {},
   "outputs": [],
   "source": [
    "import numpy as np\n",
    "import ids\n",
    "import matplotlib.pyplot as plt\n",
    "\n",
    "# Setting random seed for reproducibility\n",
    "SEED = 777\n",
    "np.random.seed(SEED)"
   ]
  },
  {
   "cell_type": "markdown",
   "metadata": {},
   "source": [
    "### Data generation\n",
    "\n",
    "We begin by using IDS to identify nonlinear dependencies arising between a pair of variables, $x, y$.  Below, samples are drawn according to $x \\sim \\mathcal{N}(0, 1)$ and $y = x^2$.  The code below generates 100 samples from this data distribution and visualizes the data.  "
   ]
  },
  {
   "cell_type": "code",
   "execution_count": 2,
   "metadata": {},
   "outputs": [
    {
     "data": {
      "image/png": "[encoded data removed]",
      "text/plain": [
       "<Figure size 640x480 with 1 Axes>"
      ]
     },
     "metadata": {},
     "output_type": "display_data"
    }
   ],
   "source": [
    "n = 100  # Number of samples\n",
    "dx = 1  # Number of input variables\n",
    "dy = 1  # Number of output variables \n",
    "\n",
    "# Setting up data x, y \n",
    "x = np.random.normal(size=(n, dx))\n",
    "y = np.random.normal(size=(n, dy))\n",
    "y[:, 0] = np.square(x[:, 0])\n",
    "\n",
    "plt.scatter(x[:, 0], y[:, 0])\n",
    "plt.xlabel(f'$x$')\n",
    "plt.ylabel(f'$y$')\n",
    "plt.show()"
   ]
  },
  {
   "cell_type": "markdown",
   "metadata": {},
   "source": [
    "### IDS computation\n",
    "\n",
    "The cell below shows how to use our IDS package to check for dependence. The high IDS value ($> 0.9$) provides evidence that the variables are not independent.  "
   ]
  },
  {
   "cell_type": "code",
   "execution_count": 4,
   "metadata": {},
   "outputs": [
    {
     "name": "stdout",
     "output_type": "stream",
     "text": [
      "IDS between x and y:  [[0.9897309]]\n"
     ]
    }
   ],
   "source": [
    "# Returns a 1 x 1 matrix containing the IDS between x and y\n",
    "C = ids.compute_IDS(x, y)\n",
    "print(\"IDS between x and y: \", C)"
   ]
  },
  {
   "cell_type": "markdown",
   "metadata": {},
   "source": [
    "Suppose we want a p-value to indicate whether this IDS value is statistically significant.  We provide functionality to do just this through permutation testing, as shown below."
   ]
  },
  {
   "cell_type": "code",
   "execution_count": 5,
   "metadata": {},
   "outputs": [
    {
     "name": "stderr",
     "output_type": "stream",
     "text": [
      "100%|██████████| 1000/1000 [00:00<00:00, 4544.96it/s]"
     ]
    },
    {
     "name": "stdout",
     "output_type": "stream",
     "text": [
      "IDS between x and y:  [[0.9897309]]\n",
      "P-value for IDS (computed using 1000 permutation tests):  [[0.]]\n"
     ]
    },
    {
     "name": "stderr",
     "output_type": "stream",
     "text": [
      "\n"
     ]
    }
   ],
   "source": [
    "C, p_vals = ids.compute_IDS(x, y, p_val=True, num_tests=1000)\n",
    "print(\"IDS between x and y: \", C)\n",
    "print(\"P-value for IDS (computed using 1000 permutation tests): \", p_vals)"
   ]
  },
  {
   "cell_type": "markdown",
   "metadata": {},
   "source": [
    "The computed p-value is zero, indicating that we can reject the null hypothesis of independence.  "
   ]
  },
  {
   "cell_type": "markdown",
   "metadata": {},
   "source": [
    "### Using IDS to test for independence between multiple sets of variables $\\{x_i\\}, \\{y_j\\}$\n",
    "\n",
    "Above, we used IDS to test whether a pair of variables were independent.  We now show how our library can be used to test for independence between multiple variables simultaneously."
   ]
  },
  {
   "cell_type": "markdown",
   "metadata": {},
   "source": [
    "### Data generation\n",
    "\n",
    "In the following cell, we generate 500 pairs of the form $(x, y)$ where $x$ is 100-dimensional and $y$ is 2 dimensional with $x \\sim \\mathcal{N}(0, 1)$ and $y_1 = (x_1 + x_3)^2$ and $y_2 = | \\sin(x_2) |$.  Our goal is to identify that $y_1$ only depends on $x_1, x_3$ and that $y_2$ depends only on $x_2$."
   ]
  },
  {
   "cell_type": "code",
   "execution_count": 6,
   "metadata": {},
   "outputs": [],
   "source": [
    "n = 500  # Number of samples\n",
    "dx = 10  # Number of input variables\n",
    "dy = 2  # Number of output variables \n",
    "\n",
    "# Setting up data X, y \n",
    "\n",
    "X = np.random.normal(size=(n, dx))\n",
    "y = np.random.normal(size=(n, dy))\n",
    "y[:, 0] = np.square(X[:, 0] + X[:, 2])\n",
    "y[:, 1] = np.abs(np.sin(X[:, 1]))"
   ]
  },
  {
   "cell_type": "markdown",
   "metadata": {},
   "source": [
    "### IDS computation\n",
    "\n",
    "The following cell shows how to call IDS and compute dependencies between all variables $\\{x_1, \\ldots, x_{100}\\}$ and $\\{y_1, y_2\\}$  given samples in the form $X$ of size $500 \\times 10$ and $y$ of size $500 \\times 2$.   The resulting IDS matrix $C$ is of size $10 \\times 2$ where the entry $(i, j)$ indicates the IDS between $x_i$ and $y_j$. "
   ]
  },
  {
   "cell_type": "code",
   "execution_count": 7,
   "metadata": {},
   "outputs": [
    {
     "name": "stdout",
     "output_type": "stream",
     "text": [
      "[[0.41028577 0.05832708]\n",
      " [0.08135415 0.99296539]\n",
      " [0.3661389  0.08385883]\n",
      " [0.06084423 0.05271102]\n",
      " [0.09057691 0.10294692]\n",
      " [0.11566838 0.0742584 ]\n",
      " [0.09054531 0.09104957]\n",
      " [0.08813546 0.09880346]\n",
      " [0.12667839 0.08324333]\n",
      " [0.07845108 0.08387541]]\n"
     ]
    }
   ],
   "source": [
    "C = ids.compute_IDS(X, y)\n",
    "print(C)"
   ]
  },
  {
   "cell_type": "markdown",
   "metadata": {},
   "source": [
    "Just like in our previous example, we can use permutation testing to get p-values.  "
   ]
  },
  {
   "cell_type": "code",
   "execution_count": 8,
   "metadata": {},
   "outputs": [
    {
     "name": "stderr",
     "output_type": "stream",
     "text": [
      "100%|██████████| 1000/1000 [00:01<00:00, 552.70it/s]"
     ]
    },
    {
     "name": "stdout",
     "output_type": "stream",
     "text": [
      "[[0.    0.757]\n",
      " [0.588 0.   ]\n",
      " [0.    0.336]\n",
      " [0.892 0.792]\n",
      " [0.41  0.151]\n",
      " [0.137 0.488]\n",
      " [0.445 0.241]\n",
      " [0.464 0.177]\n",
      " [0.06  0.371]\n",
      " [0.644 0.341]]\n"
     ]
    },
    {
     "name": "stderr",
     "output_type": "stream",
     "text": [
      "\n"
     ]
    }
   ],
   "source": [
    "C, p_vals = ids.compute_IDS(X, y, p_val=True, num_tests=1000)\n",
    "print(p_vals)"
   ]
  },
  {
   "cell_type": "markdown",
   "metadata": {},
   "source": [
    "Here, we find that $(x_1, y_1), (x_3, y_1), (x_2, y_2)$ are the only pairs of variables for which we reject the null hypothesis (p-value $< 0.001$ after 1000 permutation tests)."
   ]
  },
  {
   "cell_type": "markdown",
   "metadata": {},
   "source": [
    "### Using IDS to test for independence between all pairs of variables in a set $\\{x_i\\}$\n",
    "\n",
    "As a last example, we show how our library can be used to test for independence between all $d^2$ pairs of variables given a single data matrix $X$ of size $n \\times d$.  \n",
    "\n",
    "Below, we create a dataset of n=1000 samples and d=6 variables $\\{x_1, \\ldots, x_{6}\\}$ among which $(x_1, x_3)$, $(x_2, x_3)$, and $(x_4, x_5)$ are dependent.  "
   ]
  },
  {
   "cell_type": "code",
   "execution_count": 10,
   "metadata": {},
   "outputs": [],
   "source": [
    "n = 1000  # Number of samples\n",
    "dx = 6  # Number of variables\n",
    "\n",
    "# Setting up data X \n",
    "\n",
    "X = np.random.normal(size=(n, dx))\n",
    "X[:, 2] = np.square(X[:, 0] + X[:, 1])\n",
    "X[:, 4] = np.abs(np.sin(X[:, 3]))"
   ]
  },
  {
   "cell_type": "markdown",
   "metadata": {},
   "source": [
    "### IDS computation\n",
    "\n",
    "We now show how to use our library to compute IDS (and p-values) between all 36 pairs of variables.  The difference is that we now only pass the $X$ matrix in to the IDS call.  "
   ]
  },
  {
   "cell_type": "code",
   "execution_count": 11,
   "metadata": {},
   "outputs": [
    {
     "name": "stderr",
     "output_type": "stream",
     "text": [
      "100%|██████████| 1000/1000 [00:01<00:00, 543.60it/s]"
     ]
    },
    {
     "name": "stdout",
     "output_type": "stream",
     "text": [
      "[[0.    0.76  0.    0.05  0.367 0.722]\n",
      " [0.76  0.    0.    0.287 0.743 0.084]\n",
      " [0.    0.    0.    0.838 0.889 0.332]\n",
      " [0.05  0.287 0.838 0.    0.    0.678]\n",
      " [0.367 0.743 0.889 0.    0.    0.822]\n",
      " [0.722 0.084 0.332 0.678 0.822 0.   ]]\n"
     ]
    },
    {
     "name": "stderr",
     "output_type": "stream",
     "text": [
      "\n"
     ]
    }
   ],
   "source": [
    "C, p_vals = ids.compute_IDS(X, p_val=True, num_tests=1000)\n",
    "print(p_vals)"
   ]
  },
  {
   "cell_type": "markdown",
   "metadata": {},
   "source": [
    "In the matrix above, we find that p-values are zeros along the diagonal (every variable is clearly dependent on itself) and also at locations corresponding to pairs of variables that were dependent (i.e., $(x_1, x_3)$, $(x_2, x_3)$, and $(x_4, x_5)$). "
   ]
  }
 ],
 "metadata": {
  "kernelspec": {
   "display_name": "ids_numpy_test",
   "language": "python",
   "name": "python3"
  },
  "language_info": {
   "codemirror_mode": {
    "name": "ipython",
    "version": 3
   },
   "file_extension": ".py",
   "mimetype": "text/x-python",
   "name": "python",
   "nbconvert_exporter": "python",
   "pygments_lexer": "ipython3",
   "version": "3.10.16"
  }
 },
 "nbformat": 4,
 "nbformat_minor": 2
}
